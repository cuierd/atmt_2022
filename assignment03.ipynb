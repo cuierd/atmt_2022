{
  "nbformat": 4,
  "nbformat_minor": 0,
  "metadata": {
    "colab": {
      "provenance": [],
      "collapsed_sections": [],
      "mount_file_id": "1hX5HaLbjN7lV6p-akpvVmZker4W-wSxk",
      "authorship_tag": "ABX9TyOxPFzo5KirMJTiSfaMle6T",
      "include_colab_link": true
    },
    "kernelspec": {
      "name": "python3",
      "display_name": "Python 3"
    },
    "language_info": {
      "name": "python"
    },
    "accelerator": "GPU",
    "gpuClass": "standard"
  },
  "cells": [
    {
      "cell_type": "markdown",
      "metadata": {
        "id": "view-in-github",
        "colab_type": "text"
      },
      "source": [
        "<a href=\"https://colab.research.google.com/github/cuierd/atmt_2022/blob/assignment03/assignment03.ipynb\" target=\"_parent\"><img src=\"https://colab.research.google.com/assets/colab-badge.svg\" alt=\"Open In Colab\"/></a>"
      ]
    },
    {
      "cell_type": "code",
      "execution_count": null,
      "metadata": {
        "colab": {
          "base_uri": "https://localhost:8080/"
        },
        "id": "icbm2FWWLlqR",
        "outputId": "a52b69f3-2f94-408d-9928-2d2572dfdd9c"
      },
      "outputs": [
        {
          "output_type": "stream",
          "name": "stdout",
          "text": [
            "Cloning into 'atmt_2022'...\n",
            "Warning: Permanently added the RSA host key for IP address '140.82.112.3' to the list of known hosts.\n",
            "remote: Enumerating objects: 256, done.\u001b[K\n",
            "remote: Counting objects: 100% (21/21), done.\u001b[K\n",
            "remote: Compressing objects: 100% (16/16), done.\u001b[K\n",
            "remote: Total 256 (delta 8), reused 12 (delta 5), pack-reused 235\u001b[K\n",
            "Receiving objects: 100% (256/256), 29.36 MiB | 33.40 MiB/s, done.\n",
            "Resolving deltas: 100% (64/64), done.\n"
          ]
        }
      ],
      "source": [
        "!git clone git@github.com:cuierd/atmt_2022.git"
      ]
    },
    {
      "cell_type": "code",
      "source": [
        "%cd atmt_2022/"
      ],
      "metadata": {
        "colab": {
          "base_uri": "https://localhost:8080/"
        },
        "id": "v1IyWJfQQhN0",
        "outputId": "8eeb8868-5f1d-48e6-c023-d892df72e320"
      },
      "execution_count": 10,
      "outputs": [
        {
          "output_type": "stream",
          "name": "stdout",
          "text": [
            "/content/atmt_2022\n"
          ]
        }
      ]
    },
    {
      "cell_type": "code",
      "source": [
        "!git checkout assignment03"
      ],
      "metadata": {
        "colab": {
          "base_uri": "https://localhost:8080/"
        },
        "id": "ixmUyaxLVSHQ",
        "outputId": "bc4eb22d-213c-41d1-f77c-1cecad39c8c3"
      },
      "execution_count": 11,
      "outputs": [
        {
          "output_type": "stream",
          "name": "stdout",
          "text": [
            "Branch 'assignment03' set up to track remote branch 'assignment03' from 'origin'.\n",
            "Switched to a new branch 'assignment03'\n"
          ]
        }
      ]
    },
    {
      "cell_type": "code",
      "source": [
        "!git branch"
      ],
      "metadata": {
        "colab": {
          "base_uri": "https://localhost:8080/"
        },
        "id": "4CEFrfzUWIYk",
        "outputId": "b7ea0a22-66a5-4e53-83d9-df6042986fd0"
      },
      "execution_count": 12,
      "outputs": [
        {
          "output_type": "stream",
          "name": "stdout",
          "text": [
            "* \u001b[32massignment03\u001b[m\n",
            "  main\u001b[m\n"
          ]
        }
      ]
    },
    {
      "cell_type": "code",
      "source": [],
      "metadata": {
        "id": "-TmE81C1WMyg"
      },
      "execution_count": null,
      "outputs": []
    },
    {
      "cell_type": "code",
      "source": [
        "\n",
        "!pip install git+https://github.com/andreinechaev/nvcc4jupyter.git"
      ],
      "metadata": {
        "colab": {
          "base_uri": "https://localhost:8080/"
        },
        "id": "I2fBriY3QlIa",
        "outputId": "6768838a-46c1-42a9-c143-4b9cd9d6dc57"
      },
      "execution_count": 13,
      "outputs": [
        {
          "output_type": "stream",
          "name": "stdout",
          "text": [
            "Looking in indexes: https://pypi.org/simple, https://us-python.pkg.dev/colab-wheels/public/simple/\n",
            "Collecting git+https://github.com/andreinechaev/nvcc4jupyter.git\n",
            "  Cloning https://github.com/andreinechaev/nvcc4jupyter.git to /tmp/pip-req-build-vofzgs1g\n",
            "  Running command git clone -q https://github.com/andreinechaev/nvcc4jupyter.git /tmp/pip-req-build-vofzgs1g\n",
            "Building wheels for collected packages: NVCCPlugin\n",
            "  Building wheel for NVCCPlugin (setup.py) ... \u001b[?25l\u001b[?25hdone\n",
            "  Created wheel for NVCCPlugin: filename=NVCCPlugin-0.0.2-py3-none-any.whl size=4306 sha256=9bf1e50d00e75639c1ab294c9208fe36188e2dfb474a8cb8d62c73150dcfdd01\n",
            "  Stored in directory: /tmp/pip-ephem-wheel-cache-488l7qyq/wheels/ca/33/8d/3c86eb85e97d2b6169d95c6e8f2c297fdec60db6e84cb56f5e\n",
            "Successfully built NVCCPlugin\n",
            "Installing collected packages: NVCCPlugin\n",
            "Successfully installed NVCCPlugin-0.0.2\n"
          ]
        }
      ]
    },
    {
      "cell_type": "code",
      "source": [
        "%load_ext nvcc_plugin"
      ],
      "metadata": {
        "colab": {
          "base_uri": "https://localhost:8080/"
        },
        "id": "riE0ft92Qn0m",
        "outputId": "b727185a-8e11-4f16-fc2b-d9a62788ec70"
      },
      "execution_count": 14,
      "outputs": [
        {
          "output_type": "stream",
          "name": "stdout",
          "text": [
            "created output directory at /content/atmt_2022/src\n",
            "Out bin /content/atmt_2022/result.out\n"
          ]
        }
      ]
    },
    {
      "cell_type": "code",
      "source": [
        "!python train.py \\\n",
        "    --data data/en-fr/prepared \\\n",
        "    --source-lang fr \\\n",
        "    --target-lang en \\\n",
        "    --decoder-use-lexical-model True \\\n",
        "    --cuda"
      ],
      "metadata": {
        "colab": {
          "base_uri": "https://localhost:8080/"
        },
        "id": "w2VdHKNgRfJe",
        "outputId": "2843099e-6f2f-4422-c007-d1b00047d84f"
      },
      "execution_count": 15,
      "outputs": [
        {
          "output_type": "stream",
          "name": "stdout",
          "text": [
            "INFO: Commencing training!\n",
            "INFO: COMMAND: train.py --data data/en-fr/prepared --source-lang fr --target-lang en --decoder-use-lexical-model True --cuda\n",
            "INFO: Arguments: {'cuda': True, 'data': 'data/en-fr/prepared', 'source_lang': 'fr', 'target_lang': 'en', 'max_tokens': None, 'batch_size': 1, 'train_on_tiny': False, 'arch': 'lstm', 'max_epoch': 10000, 'clip_norm': 4.0, 'lr': 0.0003, 'patience': 3, 'log_file': None, 'save_dir': 'checkpoints_asg3', 'restore_file': 'checkpoint_last.pt', 'save_interval': 1, 'no_save': False, 'epoch_checkpoints': False, 'decoder_use_lexical_model': 'True', 'encoder_embed_dim': 64, 'encoder_embed_path': None, 'encoder_hidden_size': 64, 'encoder_num_layers': 1, 'encoder_bidirectional': 'True', 'encoder_dropout_in': 0.25, 'encoder_dropout_out': 0.25, 'decoder_embed_dim': 64, 'decoder_embed_path': None, 'decoder_hidden_size': 128, 'decoder_num_layers': 1, 'decoder_dropout_in': 0.25, 'decoder_dropout_out': 0.25, 'decoder_use_attention': 'True', 'device_id': 0}\n",
            "INFO: Loaded a source dictionary (fr) with 4000 words\n",
            "INFO: Loaded a target dictionary (en) with 4000 words\n",
            "INFO: Built a model with 1572672 parameters\n",
            "INFO: Epoch 000: loss 4.282 | lr 0.0003 | num_tokens 9.1 | batch_size 1 | grad_norm 38.04 | clip 1\n",
            "INFO: Epoch 000: valid_loss 5.95 | num_tokens 9.14 | batch_size 500 | valid_perplexity 385\n",
            "INFO: Epoch 001: loss 3.434 | lr 0.0003 | num_tokens 9.1 | batch_size 1 | grad_norm 45.51 | clip 1\n",
            "INFO: Epoch 001: valid_loss 5.15 | num_tokens 9.14 | batch_size 500 | valid_perplexity 173\n",
            "INFO: Epoch 002: loss 3.067 | lr 0.0003 | num_tokens 9.1 | batch_size 1 | grad_norm 49.11 | clip 0.9999\n",
            "INFO: Epoch 002: valid_loss 4.81 | num_tokens 9.14 | batch_size 500 | valid_perplexity 123\n",
            "INFO: Epoch 003: loss 2.82 | lr 0.0003 | num_tokens 9.1 | batch_size 1 | grad_norm 51.24 | clip 1\n",
            "INFO: Epoch 003: valid_loss 4.05 | num_tokens 9.14 | batch_size 500 | valid_perplexity 57.5\n",
            "INFO: Epoch 004: loss 2.631 | lr 0.0003 | num_tokens 9.1 | batch_size 1 | grad_norm 52.28 | clip 1\n",
            "INFO: Epoch 004: valid_loss 3.53 | num_tokens 9.14 | batch_size 500 | valid_perplexity 34\n",
            "INFO: Epoch 005: loss 2.482 | lr 0.0003 | num_tokens 9.1 | batch_size 1 | grad_norm 52.84 | clip 0.9998\n",
            "INFO: Epoch 005: valid_loss 3.34 | num_tokens 9.14 | batch_size 500 | valid_perplexity 28.3\n",
            "INFO: Epoch 006: loss 2.354 | lr 0.0003 | num_tokens 9.1 | batch_size 1 | grad_norm 53.42 | clip 0.9988\n",
            "INFO: Epoch 006: valid_loss 3.26 | num_tokens 9.14 | batch_size 500 | valid_perplexity 26.2\n",
            "INFO: Epoch 007: loss 2.25 | lr 0.0003 | num_tokens 9.1 | batch_size 1 | grad_norm 53.3 | clip 0.9987\n",
            "INFO: Epoch 007: valid_loss 3.11 | num_tokens 9.14 | batch_size 500 | valid_perplexity 22.5\n",
            "INFO: Epoch 008: loss 2.158 | lr 0.0003 | num_tokens 9.1 | batch_size 1 | grad_norm 53.62 | clip 0.9982\n",
            "INFO: Epoch 008: valid_loss 3.02 | num_tokens 9.14 | batch_size 500 | valid_perplexity 20.5\n",
            "INFO: Epoch 009: loss 2.075 | lr 0.0003 | num_tokens 9.1 | batch_size 1 | grad_norm 53.93 | clip 0.9982\n",
            "INFO: Epoch 009: valid_loss 2.9 | num_tokens 9.14 | batch_size 500 | valid_perplexity 18.1\n",
            "INFO: Epoch 010: loss 2.015 | lr 0.0003 | num_tokens 9.1 | batch_size 1 | grad_norm 54.47 | clip 0.9976\n",
            "INFO: Epoch 010: valid_loss 2.89 | num_tokens 9.14 | batch_size 500 | valid_perplexity 18\n",
            "INFO: Epoch 011: loss 1.954 | lr 0.0003 | num_tokens 9.1 | batch_size 1 | grad_norm 53.9 | clip 0.997\n",
            "INFO: Epoch 011: valid_loss 2.84 | num_tokens 9.14 | batch_size 500 | valid_perplexity 17.1\n",
            "INFO: Epoch 012: loss 1.897 | lr 0.0003 | num_tokens 9.1 | batch_size 1 | grad_norm 54.15 | clip 0.997\n",
            "INFO: Epoch 012: valid_loss 2.88 | num_tokens 9.14 | batch_size 500 | valid_perplexity 17.8\n",
            "INFO: Epoch 013: loss 1.846 | lr 0.0003 | num_tokens 9.1 | batch_size 1 | grad_norm 53.82 | clip 0.9958\n",
            "INFO: Epoch 013: valid_loss 2.85 | num_tokens 9.14 | batch_size 500 | valid_perplexity 17.3\n",
            "INFO: Epoch 014: loss 1.804 | lr 0.0003 | num_tokens 9.1 | batch_size 1 | grad_norm 54 | clip 0.996\n",
            "INFO: Epoch 014: valid_loss 2.72 | num_tokens 9.14 | batch_size 500 | valid_perplexity 15.2\n",
            "INFO: Epoch 015: loss 1.757 | lr 0.0003 | num_tokens 9.1 | batch_size 1 | grad_norm 54 | clip 0.9948\n",
            "INFO: Epoch 015: valid_loss 2.69 | num_tokens 9.14 | batch_size 500 | valid_perplexity 14.8\n",
            "INFO: Epoch 016: loss 1.721 | lr 0.0003 | num_tokens 9.1 | batch_size 1 | grad_norm 54.52 | clip 0.9943\n",
            "INFO: Epoch 016: valid_loss 2.69 | num_tokens 9.14 | batch_size 500 | valid_perplexity 14.7\n",
            "INFO: Epoch 017: loss 1.684 | lr 0.0003 | num_tokens 9.1 | batch_size 1 | grad_norm 54.34 | clip 0.9942\n",
            "INFO: Epoch 017: valid_loss 2.69 | num_tokens 9.14 | batch_size 500 | valid_perplexity 14.7\n",
            "INFO: Epoch 018: loss 1.65 | lr 0.0003 | num_tokens 9.1 | batch_size 1 | grad_norm 54.36 | clip 0.9938\n",
            "INFO: Epoch 018: valid_loss 2.64 | num_tokens 9.14 | batch_size 500 | valid_perplexity 13.9\n",
            "INFO: Epoch 019: loss 1.622 | lr 0.0003 | num_tokens 9.1 | batch_size 1 | grad_norm 54.84 | clip 0.9936\n",
            "INFO: Epoch 019: valid_loss 2.58 | num_tokens 9.14 | batch_size 500 | valid_perplexity 13.1\n",
            "INFO: Epoch 020: loss 1.599 | lr 0.0003 | num_tokens 9.1 | batch_size 1 | grad_norm 54.38 | clip 0.993\n",
            "INFO: Epoch 020: valid_loss 2.53 | num_tokens 9.14 | batch_size 500 | valid_perplexity 12.5\n",
            "INFO: Epoch 021: loss 1.566 | lr 0.0003 | num_tokens 9.1 | batch_size 1 | grad_norm 54.64 | clip 0.9911\n",
            "INFO: Epoch 021: valid_loss 2.46 | num_tokens 9.14 | batch_size 500 | valid_perplexity 11.8\n",
            "INFO: Epoch 022: loss 1.546 | lr 0.0003 | num_tokens 9.1 | batch_size 1 | grad_norm 54.09 | clip 0.991\n",
            "INFO: Epoch 022: valid_loss 2.45 | num_tokens 9.14 | batch_size 500 | valid_perplexity 11.6\n",
            "INFO: Epoch 023: loss 1.517 | lr 0.0003 | num_tokens 9.1 | batch_size 1 | grad_norm 53.59 | clip 0.9902\n",
            "INFO: Epoch 023: valid_loss 2.42 | num_tokens 9.14 | batch_size 500 | valid_perplexity 11.3\n",
            "INFO: Epoch 024: loss 1.498 | lr 0.0003 | num_tokens 9.1 | batch_size 1 | grad_norm 54.27 | clip 0.9889\n",
            "INFO: Epoch 024: valid_loss 2.43 | num_tokens 9.14 | batch_size 500 | valid_perplexity 11.3\n",
            "INFO: Epoch 025: loss 1.473 | lr 0.0003 | num_tokens 9.1 | batch_size 1 | grad_norm 54.18 | clip 0.9887\n",
            "INFO: Epoch 025: valid_loss 2.35 | num_tokens 9.14 | batch_size 500 | valid_perplexity 10.5\n",
            "INFO: Epoch 026: loss 1.452 | lr 0.0003 | num_tokens 9.1 | batch_size 1 | grad_norm 54.02 | clip 0.9895\n",
            "INFO: Epoch 026: valid_loss 2.38 | num_tokens 9.14 | batch_size 500 | valid_perplexity 10.8\n",
            "INFO: Epoch 027: loss 1.433 | lr 0.0003 | num_tokens 9.1 | batch_size 1 | grad_norm 54.07 | clip 0.9872\n",
            "INFO: Epoch 027: valid_loss 2.36 | num_tokens 9.14 | batch_size 500 | valid_perplexity 10.6\n",
            "INFO: Epoch 028: loss 1.416 | lr 0.0003 | num_tokens 9.1 | batch_size 1 | grad_norm 53.63 | clip 0.9874\n",
            "INFO: Epoch 028: valid_loss 2.32 | num_tokens 9.14 | batch_size 500 | valid_perplexity 10.2\n",
            "INFO: Epoch 029: loss 1.396 | lr 0.0003 | num_tokens 9.1 | batch_size 1 | grad_norm 53.63 | clip 0.9862\n",
            "INFO: Epoch 029: valid_loss 2.32 | num_tokens 9.14 | batch_size 500 | valid_perplexity 10.2\n",
            "INFO: Epoch 030: loss 1.381 | lr 0.0003 | num_tokens 9.1 | batch_size 1 | grad_norm 53.42 | clip 0.9853\n",
            "INFO: Epoch 030: valid_loss 2.34 | num_tokens 9.14 | batch_size 500 | valid_perplexity 10.4\n",
            "INFO: Epoch 031: loss 1.367 | lr 0.0003 | num_tokens 9.1 | batch_size 1 | grad_norm 53.61 | clip 0.9838\n",
            "INFO: Epoch 031: valid_loss 2.36 | num_tokens 9.14 | batch_size 500 | valid_perplexity 10.6\n",
            "INFO: No validation set improvements observed for 3 epochs. Early stop!\n"
          ]
        }
      ]
    },
    {
      "cell_type": "code",
      "source": [
        "!python translate.py \\\n",
        "    --data data/en-fr/prepared \\\n",
        "    --dicts data/en-fr/prepared \\\n",
        "    --checkpoint-path checkpoints_asg3/checkpoint_last.pt \\\n",
        "    --output assignments/03/baseline/lexical_translations.txt \\\n",
        "    --cuda"
      ],
      "metadata": {
        "colab": {
          "base_uri": "https://localhost:8080/"
        },
        "id": "XJeXdXsQwWfZ",
        "outputId": "bcd5376c-45cd-4b56-d84d-c48d1cbfe021"
      },
      "execution_count": 16,
      "outputs": [
        {
          "output_type": "stream",
          "name": "stdout",
          "text": [
            "[2022-11-07 15:43:22] COMMAND: translate.py --data data/en-fr/prepared --dicts data/en-fr/prepared --checkpoint-path checkpoints_asg3/checkpoint_last.pt --output assignments/03/baseline/lexical_translations.txt --cuda\n",
            "[2022-11-07 15:43:22] Arguments: {'cuda': True, 'data': 'data/en-fr/prepared', 'source_lang': 'fr', 'target_lang': 'en', 'max_tokens': None, 'batch_size': 1, 'train_on_tiny': False, 'arch': 'lstm', 'max_epoch': 10000, 'clip_norm': 4.0, 'lr': 0.0003, 'patience': 3, 'log_file': None, 'save_dir': 'checkpoints_asg3', 'restore_file': 'checkpoint_last.pt', 'save_interval': 1, 'no_save': False, 'epoch_checkpoints': False, 'decoder_use_lexical_model': 'True', 'encoder_embed_dim': 64, 'encoder_embed_path': None, 'encoder_hidden_size': 64, 'encoder_num_layers': 1, 'encoder_bidirectional': 'True', 'encoder_dropout_in': 0.25, 'encoder_dropout_out': 0.25, 'decoder_embed_dim': 64, 'decoder_embed_path': None, 'decoder_hidden_size': 128, 'decoder_num_layers': 1, 'decoder_dropout_in': 0.25, 'decoder_dropout_out': 0.25, 'decoder_use_attention': 'True', 'device_id': 0, 'seed': 42, 'dicts': 'data/en-fr/prepared', 'checkpoint_path': 'checkpoints_asg3/checkpoint_last.pt', 'output': 'assignments/03/baseline/lexical_translations.txt', 'max_len': 128}\n",
            "[2022-11-07 15:43:22] Loaded a source dictionary (fr) with 4000 words\n",
            "[2022-11-07 15:43:22] Loaded a target dictionary (en) with 4000 words\n",
            "[2022-11-07 15:43:24] Loaded a model from checkpoint checkpoints_asg3/checkpoint_last.pt\n"
          ]
        }
      ]
    },
    {
      "cell_type": "code",
      "source": [
        "!bash scripts/postprocess.sh \\\n",
        "    assignments/03/baseline/lexical_translations.txt \\\n",
        "    assignments/03/baseline/lexical_translations.p.txt en"
      ],
      "metadata": {
        "id": "NuhKdKN53Ch6"
      },
      "execution_count": 17,
      "outputs": []
    },
    {
      "cell_type": "code",
      "source": [
        "!cat \\\n",
        "    assignments/03/baseline/lexical_translations.p.txt \\\n",
        "    |sacrebleu data/en-fr/raw/test.en"
      ],
      "metadata": {
        "colab": {
          "base_uri": "https://localhost:8080/"
        },
        "id": "X_AxLrDE3Ljm",
        "outputId": "1f106ab2-224a-472e-9fc4-a4e73b19c60d"
      },
      "execution_count": 20,
      "outputs": [
        {
          "output_type": "stream",
          "name": "stdout",
          "text": [
            "{\n",
            " \"name\": \"BLEU\",\n",
            " \"score\": 22.4,\n",
            " \"signature\": \"nrefs:1|case:mixed|eff:no|tok:13a|smooth:exp|version:2.3.1\",\n",
            " \"verbose_score\": \"52.4/28.8/16.5/10.2 (BP = 1.000 ratio = 1.180 hyp_len = 4594 ref_len = 3892)\",\n",
            " \"nrefs\": \"1\",\n",
            " \"case\": \"mixed\",\n",
            " \"eff\": \"no\",\n",
            " \"tok\": \"13a\",\n",
            " \"smooth\": \"exp\",\n",
            " \"version\": \"2.3.1\"\n",
            "}\n",
            "\u001b[0m"
          ]
        }
      ]
    },
    {
      "cell_type": "code",
      "source": [
        "!git add ."
      ],
      "metadata": {
        "id": "gsVffXl-33Ow"
      },
      "execution_count": 21,
      "outputs": []
    },
    {
      "cell_type": "code",
      "source": [
        "!git commit -m \"all generated file added\""
      ],
      "metadata": {
        "colab": {
          "base_uri": "https://localhost:8080/"
        },
        "id": "EbpMoITJ37Co",
        "outputId": "980e8633-aedf-4fad-a3c4-a953a5d8c062"
      },
      "execution_count": 24,
      "outputs": [
        {
          "output_type": "stream",
          "name": "stdout",
          "text": [
            "[assignment03 3e92b67] all generated file added\n",
            " 11 files changed, 1000 insertions(+)\n",
            " create mode 100644 __pycache__/preprocess.cpython-37.pyc\n",
            " create mode 100644 assignments/03/baseline/lexical_translations.p.txt\n",
            " create mode 100644 assignments/03/baseline/lexical_translations.txt\n",
            " create mode 100644 checkpoints_asg3/checkpoint_best.pt\n",
            " create mode 100644 checkpoints_asg3/checkpoint_last.pt\n",
            " create mode 100644 seq2seq/__pycache__/utils.cpython-37.pyc\n",
            " create mode 100644 seq2seq/data/__pycache__/dataset.cpython-37.pyc\n",
            " create mode 100644 seq2seq/data/__pycache__/dictionary.cpython-37.pyc\n",
            " create mode 100644 seq2seq/models/__pycache__/__init__.cpython-37.pyc\n",
            " create mode 100644 seq2seq/models/__pycache__/lstm.cpython-37.pyc\n",
            " create mode 100644 seq2seq/models/__pycache__/model.cpython-37.pyc\n"
          ]
        }
      ]
    },
    {
      "cell_type": "code",
      "source": [
        "!git push"
      ],
      "metadata": {
        "colab": {
          "base_uri": "https://localhost:8080/"
        },
        "id": "XgzgORg34n6D",
        "outputId": "5dde6523-581b-4169-a780-ec4354f75c9d"
      },
      "execution_count": 25,
      "outputs": [
        {
          "output_type": "stream",
          "name": "stdout",
          "text": [
            "Counting objects: 24, done.\n",
            "Delta compression using up to 2 threads.\n",
            "Compressing objects: 100% (24/24), done.\n",
            "Writing objects: 100% (24/24), 31.89 MiB | 12.37 MiB/s, done.\n",
            "Total 24 (delta 6), reused 0 (delta 0)\n",
            "remote: Resolving deltas: 100% (6/6), completed with 5 local objects.\u001b[K\n",
            "To github.com:cuierd/atmt_2022.git\n",
            "   77fb777..3e92b67  assignment03 -> assignment03\n"
          ]
        }
      ]
    },
    {
      "cell_type": "code",
      "source": [],
      "metadata": {
        "id": "9Nyw092A4Ij_"
      },
      "execution_count": null,
      "outputs": []
    }
  ]
}