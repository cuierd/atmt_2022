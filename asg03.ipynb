{
  "nbformat": 4,
  "nbformat_minor": 0,
  "metadata": {
    "colab": {
      "provenance": [],
      "collapsed_sections": [],
      "authorship_tag": "ABX9TyMIMJER4hxr+/d20W+726rg",
      "include_colab_link": true
    },
    "kernelspec": {
      "name": "python3",
      "display_name": "Python 3"
    },
    "language_info": {
      "name": "python"
    },
    "accelerator": "GPU",
    "gpuClass": "standard"
  },
  "cells": [
    {
      "cell_type": "markdown",
      "metadata": {
        "id": "view-in-github",
        "colab_type": "text"
      },
      "source": [
        "<a href=\"https://colab.research.google.com/github/cuierd/atmt_2022/blob/main/asg03.ipynb\" target=\"_parent\"><img src=\"https://colab.research.google.com/assets/colab-badge.svg\" alt=\"Open In Colab\"/></a>"
      ]
    },
    {
      "cell_type": "code",
      "execution_count": 1,
      "metadata": {
        "colab": {
          "base_uri": "https://localhost:8080/"
        },
        "id": "PqJNpemgNkCP",
        "outputId": "a9807f64-6228-42da-864a-e0299a6f0a85"
      },
      "outputs": [
        {
          "output_type": "stream",
          "name": "stdout",
          "text": [
            "Cloning into 'atmt_2022'...\n",
            "remote: Enumerating objects: 242, done.\u001b[K\n",
            "remote: Counting objects: 100% (7/7), done.\u001b[K\n",
            "remote: Compressing objects: 100% (7/7), done.\u001b[K\n",
            "remote: Total 242 (delta 0), reused 1 (delta 0), pack-reused 235\u001b[K\n",
            "Receiving objects: 100% (242/242), 29.35 MiB | 16.38 MiB/s, done.\n",
            "Resolving deltas: 100% (56/56), done.\n"
          ]
        }
      ],
      "source": [
        "! git clone https://github.com/cuierd/atmt_2022.git"
      ]
    },
    {
      "cell_type": "code",
      "source": [
        "!pip install git+https://github.com/andreinechaev/nvcc4jupyter.git"
      ],
      "metadata": {
        "colab": {
          "base_uri": "https://localhost:8080/"
        },
        "id": "lHuIQFSBN4J5",
        "outputId": "6005f4d8-7434-42ab-a17e-f0c56b0f748f"
      },
      "execution_count": 2,
      "outputs": [
        {
          "output_type": "stream",
          "name": "stdout",
          "text": [
            "Looking in indexes: https://pypi.org/simple, https://us-python.pkg.dev/colab-wheels/public/simple/\n",
            "Collecting git+https://github.com/andreinechaev/nvcc4jupyter.git\n",
            "  Cloning https://github.com/andreinechaev/nvcc4jupyter.git to /tmp/pip-req-build-ccpmc8sc\n",
            "  Running command git clone -q https://github.com/andreinechaev/nvcc4jupyter.git /tmp/pip-req-build-ccpmc8sc\n",
            "Building wheels for collected packages: NVCCPlugin\n",
            "  Building wheel for NVCCPlugin (setup.py) ... \u001b[?25l\u001b[?25hdone\n",
            "  Created wheel for NVCCPlugin: filename=NVCCPlugin-0.0.2-py3-none-any.whl size=4306 sha256=ea250dc0090d9a20b5c41b495333209e8223f1ac4e7e4230542a04ff4ec7cc15\n",
            "  Stored in directory: /tmp/pip-ephem-wheel-cache-x7tce0ji/wheels/ca/33/8d/3c86eb85e97d2b6169d95c6e8f2c297fdec60db6e84cb56f5e\n",
            "Successfully built NVCCPlugin\n",
            "Installing collected packages: NVCCPlugin\n",
            "Successfully installed NVCCPlugin-0.0.2\n"
          ]
        }
      ]
    },
    {
      "cell_type": "code",
      "source": [
        "%load_ext nvcc_plugin"
      ],
      "metadata": {
        "colab": {
          "base_uri": "https://localhost:8080/"
        },
        "id": "i07znfXsN92_",
        "outputId": "3ed6c740-1186-4adb-e4d9-1c199d33a258"
      },
      "execution_count": 3,
      "outputs": [
        {
          "output_type": "stream",
          "name": "stdout",
          "text": [
            "created output directory at /content/src\n",
            "Out bin /content/result.out\n"
          ]
        }
      ]
    },
    {
      "cell_type": "code",
      "source": [
        "cd atmt_2022/"
      ],
      "metadata": {
        "colab": {
          "base_uri": "https://localhost:8080/"
        },
        "id": "OzP-vZBvQbeB",
        "outputId": "61164f70-25c7-4b37-91f5-b5e1004e3426"
      },
      "execution_count": 5,
      "outputs": [
        {
          "output_type": "stream",
          "name": "stdout",
          "text": [
            "/content/atmt_2022\n"
          ]
        }
      ]
    },
    {
      "cell_type": "code",
      "source": [
        "!python train.py \\\n",
        "    --data data/en-fr/prepared \\\n",
        "    --source-lang fr \\\n",
        "    --target-lang en \\\n",
        "    --decoder-use-lexical-model True \\\n",
        "    --cuda"
      ],
      "metadata": {
        "colab": {
          "base_uri": "https://localhost:8080/"
        },
        "id": "QTGUWlRxOCJN",
        "outputId": "b6afd1b9-7960-4696-cea6-531812c5eceb"
      },
      "execution_count": 12,
      "outputs": [
        {
          "output_type": "stream",
          "name": "stdout",
          "text": [
            "INFO: Commencing training!\n",
            "INFO: COMMAND: train.py --data data/en-fr/prepared --source-lang fr --target-lang en --decoder-use-lexical-model True --cuda\n",
            "INFO: Arguments: {'cuda': True, 'data': 'data/en-fr/prepared', 'source_lang': 'fr', 'target_lang': 'en', 'max_tokens': None, 'batch_size': 1, 'train_on_tiny': False, 'arch': 'lstm', 'max_epoch': 10000, 'clip_norm': 4.0, 'lr': 0.0003, 'patience': 3, 'log_file': None, 'save_dir': 'checkpoints_asg3', 'restore_file': 'checkpoint_last.pt', 'save_interval': 1, 'no_save': False, 'epoch_checkpoints': False, 'decoder_use_lexical_model': 'True', 'encoder_embed_dim': 64, 'encoder_embed_path': None, 'encoder_hidden_size': 64, 'encoder_num_layers': 1, 'encoder_bidirectional': 'True', 'encoder_dropout_in': 0.25, 'encoder_dropout_out': 0.25, 'decoder_embed_dim': 64, 'decoder_embed_path': None, 'decoder_hidden_size': 128, 'decoder_num_layers': 1, 'decoder_dropout_in': 0.25, 'decoder_dropout_out': 0.25, 'decoder_use_attention': 'True', 'device_id': 0}\n",
            "INFO: Loaded a source dictionary (fr) with 4000 words\n",
            "INFO: Loaded a target dictionary (en) with 4000 words\n",
            "INFO: Built a model with 1572672 parameters\n",
            "INFO: Epoch 000: loss 4.282 | lr 0.0003 | num_tokens 9.1 | batch_size 1 | grad_norm 38.04 | clip 1\n",
            "INFO: Epoch 000: valid_loss 5.95 | num_tokens 9.14 | batch_size 500 | valid_perplexity 385\n",
            "INFO: Epoch 001: loss 3.434 | lr 0.0003 | num_tokens 9.1 | batch_size 1 | grad_norm 45.51 | clip 1\n",
            "INFO: Epoch 001: valid_loss 5.15 | num_tokens 9.14 | batch_size 500 | valid_perplexity 173\n",
            "INFO: Epoch 002: loss 3.067 | lr 0.0003 | num_tokens 9.1 | batch_size 1 | grad_norm 49.11 | clip 0.9999\n",
            "INFO: Epoch 002: valid_loss 4.81 | num_tokens 9.14 | batch_size 500 | valid_perplexity 123\n",
            "INFO: Epoch 003: loss 2.82 | lr 0.0003 | num_tokens 9.1 | batch_size 1 | grad_norm 51.24 | clip 1\n",
            "INFO: Epoch 003: valid_loss 4.05 | num_tokens 9.14 | batch_size 500 | valid_perplexity 57.5\n",
            "INFO: Epoch 004: loss 2.631 | lr 0.0003 | num_tokens 9.1 | batch_size 1 | grad_norm 52.28 | clip 1\n",
            "INFO: Epoch 004: valid_loss 3.53 | num_tokens 9.14 | batch_size 500 | valid_perplexity 34\n",
            "INFO: Epoch 005: loss 2.482 | lr 0.0003 | num_tokens 9.1 | batch_size 1 | grad_norm 52.84 | clip 0.9998\n",
            "INFO: Epoch 005: valid_loss 3.34 | num_tokens 9.14 | batch_size 500 | valid_perplexity 28.3\n",
            "INFO: Epoch 006: loss 2.354 | lr 0.0003 | num_tokens 9.1 | batch_size 1 | grad_norm 53.42 | clip 0.9988\n",
            "INFO: Epoch 006: valid_loss 3.26 | num_tokens 9.14 | batch_size 500 | valid_perplexity 26.2\n",
            "INFO: Epoch 007: loss 2.25 | lr 0.0003 | num_tokens 9.1 | batch_size 1 | grad_norm 53.3 | clip 0.9987\n",
            "INFO: Epoch 007: valid_loss 3.11 | num_tokens 9.14 | batch_size 500 | valid_perplexity 22.5\n",
            "INFO: Epoch 008: loss 2.158 | lr 0.0003 | num_tokens 9.1 | batch_size 1 | grad_norm 53.62 | clip 0.9982\n",
            "INFO: Epoch 008: valid_loss 3.02 | num_tokens 9.14 | batch_size 500 | valid_perplexity 20.5\n",
            "INFO: Epoch 009: loss 2.075 | lr 0.0003 | num_tokens 9.1 | batch_size 1 | grad_norm 53.93 | clip 0.9982\n",
            "INFO: Epoch 009: valid_loss 2.9 | num_tokens 9.14 | batch_size 500 | valid_perplexity 18.1\n",
            "INFO: Epoch 010: loss 2.015 | lr 0.0003 | num_tokens 9.1 | batch_size 1 | grad_norm 54.47 | clip 0.9976\n",
            "INFO: Epoch 010: valid_loss 2.89 | num_tokens 9.14 | batch_size 500 | valid_perplexity 18\n",
            "INFO: Epoch 011: loss 1.954 | lr 0.0003 | num_tokens 9.1 | batch_size 1 | grad_norm 53.9 | clip 0.997\n",
            "INFO: Epoch 011: valid_loss 2.84 | num_tokens 9.14 | batch_size 500 | valid_perplexity 17.1\n",
            "INFO: Epoch 012: loss 1.897 | lr 0.0003 | num_tokens 9.1 | batch_size 1 | grad_norm 54.15 | clip 0.997\n",
            "INFO: Epoch 012: valid_loss 2.88 | num_tokens 9.14 | batch_size 500 | valid_perplexity 17.8\n",
            "INFO: Epoch 013: loss 1.846 | lr 0.0003 | num_tokens 9.1 | batch_size 1 | grad_norm 53.82 | clip 0.9958\n",
            "INFO: Epoch 013: valid_loss 2.85 | num_tokens 9.14 | batch_size 500 | valid_perplexity 17.3\n",
            "INFO: Epoch 014: loss 1.804 | lr 0.0003 | num_tokens 9.1 | batch_size 1 | grad_norm 54 | clip 0.996\n",
            "INFO: Epoch 014: valid_loss 2.72 | num_tokens 9.14 | batch_size 500 | valid_perplexity 15.2\n",
            "INFO: Epoch 015: loss 1.757 | lr 0.0003 | num_tokens 9.1 | batch_size 1 | grad_norm 54 | clip 0.9948\n",
            "INFO: Epoch 015: valid_loss 2.69 | num_tokens 9.14 | batch_size 500 | valid_perplexity 14.8\n",
            "INFO: Epoch 016: loss 1.721 | lr 0.0003 | num_tokens 9.1 | batch_size 1 | grad_norm 54.52 | clip 0.9943\n",
            "INFO: Epoch 016: valid_loss 2.69 | num_tokens 9.14 | batch_size 500 | valid_perplexity 14.7\n",
            "INFO: Epoch 017: loss 1.684 | lr 0.0003 | num_tokens 9.1 | batch_size 1 | grad_norm 54.34 | clip 0.9942\n",
            "INFO: Epoch 017: valid_loss 2.69 | num_tokens 9.14 | batch_size 500 | valid_perplexity 14.7\n",
            "INFO: Epoch 018: loss 1.65 | lr 0.0003 | num_tokens 9.1 | batch_size 1 | grad_norm 54.36 | clip 0.9938\n",
            "INFO: Epoch 018: valid_loss 2.64 | num_tokens 9.14 | batch_size 500 | valid_perplexity 13.9\n",
            "INFO: Epoch 019: loss 1.622 | lr 0.0003 | num_tokens 9.1 | batch_size 1 | grad_norm 54.84 | clip 0.9936\n",
            "INFO: Epoch 019: valid_loss 2.58 | num_tokens 9.14 | batch_size 500 | valid_perplexity 13.1\n",
            "INFO: Epoch 020: loss 1.599 | lr 0.0003 | num_tokens 9.1 | batch_size 1 | grad_norm 54.38 | clip 0.993\n",
            "INFO: Epoch 020: valid_loss 2.53 | num_tokens 9.14 | batch_size 500 | valid_perplexity 12.5\n",
            "INFO: Epoch 021: loss 1.566 | lr 0.0003 | num_tokens 9.1 | batch_size 1 | grad_norm 54.64 | clip 0.9911\n",
            "INFO: Epoch 021: valid_loss 2.46 | num_tokens 9.14 | batch_size 500 | valid_perplexity 11.8\n",
            "INFO: Epoch 022: loss 1.546 | lr 0.0003 | num_tokens 9.1 | batch_size 1 | grad_norm 54.09 | clip 0.991\n",
            "INFO: Epoch 022: valid_loss 2.45 | num_tokens 9.14 | batch_size 500 | valid_perplexity 11.6\n",
            "INFO: Epoch 023: loss 1.517 | lr 0.0003 | num_tokens 9.1 | batch_size 1 | grad_norm 53.59 | clip 0.9902\n",
            "INFO: Epoch 023: valid_loss 2.42 | num_tokens 9.14 | batch_size 500 | valid_perplexity 11.3\n",
            "INFO: Epoch 024: loss 1.498 | lr 0.0003 | num_tokens 9.1 | batch_size 1 | grad_norm 54.27 | clip 0.9889\n",
            "INFO: Epoch 024: valid_loss 2.43 | num_tokens 9.14 | batch_size 500 | valid_perplexity 11.3\n",
            "INFO: Epoch 025: loss 1.473 | lr 0.0003 | num_tokens 9.1 | batch_size 1 | grad_norm 54.18 | clip 0.9887\n",
            "INFO: Epoch 025: valid_loss 2.35 | num_tokens 9.14 | batch_size 500 | valid_perplexity 10.5\n",
            "INFO: Epoch 026: loss 1.452 | lr 0.0003 | num_tokens 9.1 | batch_size 1 | grad_norm 54.02 | clip 0.9895\n",
            "INFO: Epoch 026: valid_loss 2.38 | num_tokens 9.14 | batch_size 500 | valid_perplexity 10.8\n",
            "INFO: Epoch 027: loss 1.433 | lr 0.0003 | num_tokens 9.1 | batch_size 1 | grad_norm 54.07 | clip 0.9872\n",
            "INFO: Epoch 027: valid_loss 2.36 | num_tokens 9.14 | batch_size 500 | valid_perplexity 10.6\n",
            "INFO: Epoch 028: loss 1.416 | lr 0.0003 | num_tokens 9.1 | batch_size 1 | grad_norm 53.63 | clip 0.9874\n",
            "INFO: Epoch 028: valid_loss 2.32 | num_tokens 9.14 | batch_size 500 | valid_perplexity 10.2\n",
            "INFO: Epoch 029: loss 1.396 | lr 0.0003 | num_tokens 9.1 | batch_size 1 | grad_norm 53.63 | clip 0.9862\n",
            "INFO: Epoch 029: valid_loss 2.32 | num_tokens 9.14 | batch_size 500 | valid_perplexity 10.2\n",
            "INFO: Epoch 030: loss 1.381 | lr 0.0003 | num_tokens 9.1 | batch_size 1 | grad_norm 53.42 | clip 0.9853\n",
            "INFO: Epoch 030: valid_loss 2.34 | num_tokens 9.14 | batch_size 500 | valid_perplexity 10.4\n",
            "INFO: Epoch 031: loss 1.367 | lr 0.0003 | num_tokens 9.1 | batch_size 1 | grad_norm 53.61 | clip 0.9838\n",
            "INFO: Epoch 031: valid_loss 2.36 | num_tokens 9.14 | batch_size 500 | valid_perplexity 10.6\n",
            "INFO: No validation set improvements observed for 3 epochs. Early stop!\n"
          ]
        }
      ]
    }
  ]
}